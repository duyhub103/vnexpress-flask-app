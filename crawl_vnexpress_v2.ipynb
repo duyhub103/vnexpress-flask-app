{
  "cells": [
    {
      "cell_type": "code",
      "execution_count": 1,
      "metadata": {},
      "outputs": [],
      "source": [
        "import requests\n",
        "from bs4 import BeautifulSoup\n",
        "from newspaper import Article\n",
        "from flask import Flask\n",
        "from flask_sqlalchemy import SQLAlchemy\n",
        "import time"
      ]
    },
    {
      "cell_type": "code",
      "execution_count": 2,
      "metadata": {},
      "outputs": [],
      "source": [
        "app = Flask(__name__)\n",
        "app.config['SQLALCHEMY_DATABASE_URI'] = 'sqlite:///vnexpress2.db'\n",
        "db = SQLAlchemy(app)"
      ]
    },
    {
      "cell_type": "code",
      "execution_count": 3,
      "metadata": {},
      "outputs": [],
      "source": [
        "class ArticleModel(db.Model):\n",
        "    __tablename__ = 'articles'\n",
        "    id = db.Column(db.Integer, primary_key=True)\n",
        "    url = db.Column(db.String, unique=True, nullable=False)\n",
        "    title = db.Column(db.String)\n",
        "    description = db.Column(db.String)\n",
        "    page_contents = db.Column(db.Text)\n",
        "    category = db.Column(db.String)\n",
        "    publish_date = db.Column(db.String)\n",
        "    author = db.Column(db.String)\n",
        "\n",
        "with app.app_context():\n",
        "    db.create_all()"
      ]
    },
    {
      "cell_type": "code",
      "execution_count": 4,
      "metadata": {},
      "outputs": [],
      "source": [
        "def get_article_links(url):\n",
        "    res = requests.get(url)\n",
        "    soup = BeautifulSoup(res.text, 'html.parser')\n",
        "    articles = soup.find_all('h3', class_='title-news')\n",
        "\n",
        "    links = []\n",
        "    for article in articles:\n",
        "        a_tag = article.find('a', href=True)\n",
        "        if a_tag:\n",
        "            full_url = a_tag['href']\n",
        "            if full_url.startswith('/'):\n",
        "                full_url = 'https://vnexpress.net' + full_url\n",
        "            links.append(full_url)\n",
        "    return links"
      ]
    },
    {
      "cell_type": "code",
      "execution_count": 5,
      "metadata": {},
      "outputs": [],
      "source": [
        "def get_article_info(url):\n",
        "    article = Article(url, language='vi')\n",
        "    article.download()\n",
        "    article.parse()\n",
        "\n",
        "    soup = BeautifulSoup(article.html, 'html.parser')\n",
        "\n",
        "    # Ngày đăng\n",
        "    date_tag = soup.find('span', class_='date')\n",
        "    publish_date = date_tag.text.strip() if date_tag else None\n",
        "\n",
        "    # Tác giả (lấy từ <p class=\"Normal\" style=\"text-align:right;\">)\n",
        "    author_tag = soup.find('p', class_='Normal', style=lambda v: v and 'text-align:right' in v)\n",
        "    author = author_tag.find('strong').text.strip() if author_tag and author_tag.find('strong') else None\n",
        "\n",
        "    return {\n",
        "        'url': url,\n",
        "        'title': article.title,\n",
        "        'description': article.meta_description,\n",
        "        'page_contents': article.text,\n",
        "        'publish_date': publish_date,\n",
        "        'author': author\n",
        "    }\n"
      ]
    },
    {
      "cell_type": "code",
      "execution_count": 6,
      "metadata": {},
      "outputs": [],
      "source": [
        "def save_to_db(article_data, category='Khoa học'):\n",
        "    with app.app_context():\n",
        "        exists = ArticleModel.query.filter_by(url=article_data['url']).first()\n",
        "        if not exists:\n",
        "            article = ArticleModel(\n",
        "                url=article_data['url'],\n",
        "                title=article_data['title'],\n",
        "                description=article_data['description'],\n",
        "                page_contents=article_data['page_contents'],\n",
        "                category=category,\n",
        "                publish_date=article_data.get('publish_date'),\n",
        "                author=article_data.get('author')\n",
        "            )\n",
        "            db.session.add(article)\n",
        "            db.session.commit()"
      ]
    },
    {
      "cell_type": "code",
      "execution_count": 7,
      "metadata": {},
      "outputs": [],
      "source": [
        "def crawl_and_save_articles(article_links, category='Khoa học'):\n",
        "    for idx, url in enumerate(article_links):\n",
        "        try:\n",
        "            print(f\"[{idx+1}/{len(article_links)}] Đang xử lý: {url}\")\n",
        "            article_data = get_article_info(url)\n",
        "            save_to_db(article_data, category=category)\n",
        "            time.sleep(1)\n",
        "        except Exception as e:\n",
        "            print(f\"Lỗi khi xử lý {url}: {e}\")\n",
        "            continue"
      ]
    },
    {
      "cell_type": "code",
      "execution_count": null,
      "metadata": {},
      "outputs": [],
      "source": [
        "# Thực thi ví dụ\n",
        "khoa_hoc_url = 'https://vnexpress.net/khoa-hoc'\n",
        "article_links = get_article_links(khoa_hoc_url)\n",
        "crawl_and_save_articles(article_links, category='Khoa học')"
      ]
    },
    {
      "cell_type": "code",
      "execution_count": null,
      "metadata": {},
      "outputs": [],
      "source": [
        "# Thêm chuyên mục Giáo dục\n",
        "giao_duc_url = 'https://vnexpress.net/giao-duc'\n",
        "edu_links = get_article_links(giao_duc_url)\n",
        "crawl_and_save_articles(edu_links, category='Giáo dục')"
      ]
    },
    {
      "cell_type": "code",
      "execution_count": null,
      "id": "69483efd",
      "metadata": {},
      "outputs": [],
      "source": [
        "phap_luat_url = 'https://vnexpress.net/phap-luat'\n",
        "law_links = get_article_links(phap_luat_url)\n",
        "crawl_and_save_articles(law_links, category='Pháp luật')"
      ]
    },
    {
      "cell_type": "code",
      "execution_count": null,
      "id": "50840f2d",
      "metadata": {},
      "outputs": [],
      "source": [
        "giai_tri_url = 'https://vnexpress.net/giai-tri'\n",
        "ent_links = get_article_links(giai_tri_url)\n",
        "crawl_and_save_articles(ent_links, category='Giải trí')"
      ]
    }
  ],
  "metadata": {
    "kernelspec": {
      "display_name": "Python 3",
      "language": "python",
      "name": "python3"
    },
    "language_info": {
      "codemirror_mode": {
        "name": "ipython",
        "version": 3
      },
      "file_extension": ".py",
      "mimetype": "text/x-python",
      "name": "python",
      "nbconvert_exporter": "python",
      "pygments_lexer": "ipython3",
      "version": "3.10.0"
    }
  },
  "nbformat": 4,
  "nbformat_minor": 5
}
